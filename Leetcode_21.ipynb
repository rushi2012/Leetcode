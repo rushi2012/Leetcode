{
  "nbformat": 4,
  "nbformat_minor": 0,
  "metadata": {
    "colab": {
      "name": "Leetcode_21.ipynb",
      "provenance": [],
      "authorship_tag": "ABX9TyNQ56ZhYQZCIKI5RmdBR6at",
      "include_colab_link": true
    },
    "kernelspec": {
      "name": "python3",
      "display_name": "Python 3"
    },
    "language_info": {
      "name": "python"
    }
  },
  "cells": [
    {
      "cell_type": "markdown",
      "metadata": {
        "id": "view-in-github",
        "colab_type": "text"
      },
      "source": [
        "<a href=\"https://colab.research.google.com/github/rushi2012/Leetcode/blob/main/Leetcode_21.ipynb\" target=\"_parent\"><img src=\"https://colab.research.google.com/assets/colab-badge.svg\" alt=\"Open In Colab\"/></a>"
      ]
    },
    {
      "cell_type": "code",
      "execution_count": null,
      "metadata": {
        "id": "C5XcW5xb7qr7"
      },
      "outputs": [],
      "source": [
        "# Definition for singly-linked list.\n",
        "# class ListNode:\n",
        "#     def __init__(self, val=0, next=None):\n",
        "#         self.val = val\n",
        "#         self.next = next\n",
        "class Solution:\n",
        "    def mergeTwoLists(self, list1: Optional[ListNode], list2: Optional[ListNode]) -> Optional[ListNode]:\n",
        "            \n",
        "        dummy = ListNode()\n",
        "        current = dummy\n",
        "        while list1 and list2:\n",
        "                if list1.val < list2.val:\n",
        "                    current.next = list1\n",
        "                    list1 = list1.next\n",
        "                \n",
        "                else:\n",
        "                    current.next = list2\n",
        "                    list2 = list2.next\n",
        "                current = current.next    \n",
        "        \n",
        "        if list1:\n",
        "            current.next =list1\n",
        "        elif list2:\n",
        "            current.next = list2\n",
        "        return dummy.next"
      ]
    }
  ]
}